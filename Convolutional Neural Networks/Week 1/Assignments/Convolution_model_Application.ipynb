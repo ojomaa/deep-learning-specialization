{
 "cells": [
  {
   "cell_type": "markdown",
   "metadata": {},
   "source": [
    "# Convolutional Neural Networks: Application\n",
    "\n",
    "Welcome to Course 4's second assignment! In this notebook, you will:\n",
    "\n",
    "- Create a mood classifer using the TF Keras Sequential API\n",
    "- Build a ConvNet to identify sign language digits using the TF Keras Functional API\n",
    "\n",
    "**After this assignment you will be able to:**\n",
    "\n",
    "- Build and train a ConvNet in TensorFlow for a __binary__ classification problem\n",
    "- Build and train a ConvNet in TensorFlow for a __multiclass__ classification problem\n",
    "- Explain different use cases for the Sequential and Functional APIs\n",
    "\n",
    "To complete this assignment, you should already be familiar with TensorFlow. If you are not, please refer back to the **TensorFlow Tutorial** of the third week of Course 2 (\"**Improving deep neural networks**\").\n",
    "\n",
    "## Important Note on Submission to the AutoGrader\n",
    "\n",
    "Before submitting your assignment to the AutoGrader, please make sure you are not doing the following:\n",
    "\n",
    "1. You have not added any _extra_ `print` statement(s) in the assignment.\n",
    "2. You have not added any _extra_ code cell(s) in the assignment.\n",
    "3. You have not changed any of the function parameters.\n",
    "4. You are not using any global variables inside your graded exercises. Unless specifically instructed to do so, please refrain from it and use the local variables instead.\n",
    "5. You are not changing the assignment code where it is not required, like creating _extra_ variables.\n",
    "\n",
    "If you do any of the following, you will get something like, `Grader Error: Grader feedback not found` (or similarly unexpected) error upon submitting your assignment. Before asking for help/debugging the errors in your assignment, check for these first. If this is the case, and you don't remember the changes you have made, you can get a fresh copy of the assignment by following these [instructions](https://www.coursera.org/learn/convolutional-neural-networks/supplement/DS4yP/h-ow-to-refresh-your-workspace)."
   ]
  },
  {
   "cell_type": "markdown",
   "metadata": {},
   "source": [
    "## Table of Contents\n",
    "\n",
    "- [1 - Packages](#1)\n",
    "    - [1.1 - Load the Data and Split the Data into Train/Test Sets](#1-1)\n",
    "- [2 - Layers in TF Keras](#2)\n",
    "- [3 - The Sequential API](#3)\n",
    "    - [3.1 - Create the Sequential Model](#3-1)\n",
    "        - [Exercise 1 - happyModel](#ex-1)\n",
    "    - [3.2 - Train and Evaluate the Model](#3-2)\n",
    "- [4 - The Functional API](#4)\n",
    "    - [4.1 - Load the SIGNS Dataset](#4-1)\n",
    "    - [4.2 - Split the Data into Train/Test Sets](#4-2)\n",
    "    - [4.3 - Forward Propagation](#4-3)\n",
    "        - [Exercise 2 - convolutional_model](#ex-2)\n",
    "    - [4.4 - Train the Model](#4-4)\n",
    "- [5 - History Object](#5)\n",
    "- [6 - Bibliography](#6)"
   ]
  },
  {
   "cell_type": "markdown",
   "metadata": {},
   "source": [
    "<a name='1'></a>\n",
    "## 1 - Packages\n",
    "\n",
    "As usual, begin by loading in the packages."
   ]
  },
  {
   "cell_type": "code",
   "execution_count": 1,
   "metadata": {
    "deletable": false,
    "editable": false
   },
   "outputs": [],
   "source": [
    "### v1.1"
   ]
  },
  {
   "cell_type": "code",
   "execution_count": 2,
   "metadata": {},
   "outputs": [],
   "source": [
    "import math\n",
    "import numpy as np\n",
    "import h5py\n",
    "import matplotlib.pyplot as plt\n",
    "from matplotlib.pyplot import imread\n",
    "import scipy\n",
    "from PIL import Image\n",
    "import pandas as pd\n",
    "import tensorflow as tf\n",
    "import tensorflow.keras.layers as tfl\n",
    "from tensorflow.python.framework import ops\n",
    "from cnn_utils import *\n",
    "from test_utils import summary, comparator\n",
    "\n",
    "%matplotlib inline\n",
    "np.random.seed(1)"
   ]
  },
  {
   "cell_type": "markdown",
   "metadata": {},
   "source": [
    "<a name='1-1'></a>\n",
    "### 1.1 - Load the Data and Split the Data into Train/Test Sets\n",
    "\n",
    "You'll be using the Happy House dataset for this part of the assignment, which contains images of peoples' faces. Your task will be to build a ConvNet that determines whether the people in the images are smiling or not -- because they only get to enter the house if they're smiling!  "
   ]
  },
  {
   "cell_type": "code",
   "execution_count": 3,
   "metadata": {},
   "outputs": [
    {
     "name": "stdout",
     "output_type": "stream",
     "text": [
      "number of training examples = 600\n",
      "number of test examples = 150\n",
      "X_train shape: (600, 64, 64, 3)\n",
      "Y_train shape: (600, 1)\n",
      "X_test shape: (150, 64, 64, 3)\n",
      "Y_test shape: (150, 1)\n"
     ]
    }
   ],
   "source": [
    "X_train_orig, Y_train_orig, X_test_orig, Y_test_orig, classes = load_happy_dataset()\n",
    "\n",
    "# Normalize image vectors\n",
    "X_train = X_train_orig/255.\n",
    "X_test = X_test_orig/255.\n",
    "\n",
    "# Reshape\n",
    "Y_train = Y_train_orig.T\n",
    "Y_test = Y_test_orig.T\n",
    "\n",
    "print (\"number of training examples = \" + str(X_train.shape[0]))\n",
    "print (\"number of test examples = \" + str(X_test.shape[0]))\n",
    "print (\"X_train shape: \" + str(X_train.shape))\n",
    "print (\"Y_train shape: \" + str(Y_train.shape))\n",
    "print (\"X_test shape: \" + str(X_test.shape))\n",
    "print (\"Y_test shape: \" + str(Y_test.shape))"
   ]
  },
  {
   "cell_type": "markdown",
   "metadata": {},
   "source": [
    "You can display the images contained in the dataset. Images are **64x64** pixels in RGB format (3 channels)."
   ]
  },
  {
   "cell_type": "code",
   "execution_count": 4,
   "metadata": {},
   "outputs": [
    {
     "data": {
      "image/png": "[encoded data removed]",
      "text/plain": [
       "<Figure size 432x288 with 1 Axes>"
      ]
     },
     "metadata": {
      "needs_background": "light"
     },
     "output_type": "display_data"
    }
   ],
   "source": [
    "index = 124\n",
    "plt.imshow(X_train_orig[index]) #display sample training image\n",
    "plt.show()"
   ]
  },
  {
   "cell_type": "markdown",
   "metadata": {},
   "source": [
    "<a name='2'></a>\n",
    "## 2 - Layers in TF Keras \n",
    "\n",
    "In the previous assignment, you created layers manually in numpy. In TF Keras, you don't have to write code directly to create layers. Rather, TF Keras has pre-defined layers you can use. \n",
    "\n",
    "When you create a layer in TF Keras, you are creating a function that takes some input and transforms it into an output you can reuse later. Nice and easy! "
   ]
  },
  {
   "cell_type": "markdown",
   "metadata": {},
   "source": [
    "<a name='3'></a>\n",
    "## 3 - The Sequential API\n",
    "\n",
    "In the previous assignment, you built helper functions using `numpy` to understand the mechanics behind convolutional neural networks. Most practical applications of deep learning today are built using programming frameworks, which have many built-in functions you can simply call. Keras is a high-level abstraction built on top of TensorFlow, which allows for even more simplified and optimized model creation and training. \n",
    "\n",
    "For the first part of this assignment, you'll create a model using TF Keras' Sequential API, which allows you to build layer by layer, and is ideal for building models where each layer has **exactly one** input tensor and **one** output tensor. \n",
    "\n",
    "As you'll see, using the Sequential API is simple and straightforward, but is only appropriate for simpler, more straightforward tasks. Later in this notebook you'll spend some time building with a more flexible, powerful alternative: the Functional API. \n",
    " "
   ]
  },
  {
   "cell_type": "markdown",
   "metadata": {},
   "source": [
    "<a name='3-1'></a>\n",
    "### 3.1 - Create the Sequential Model\n",
    "\n",
    "As mentioned earlier, the TensorFlow Keras Sequential API can be used to build simple models with layer operations that proceed in a sequential order. \n",
    "\n",
    "You can also add layers incrementally to a Sequential model with the `.add()` method, or remove them using the `.pop()` method, much like you would in a regular Python list.\n",
    "\n",
    "Actually, you can think of a Sequential model as behaving like a list of layers. Like Python lists, Sequential layers are ordered, and the order in which they are specified matters.  If your model is non-linear or contains layers with multiple inputs or outputs, a Sequential model wouldn't be the right choice!\n",
    "\n",
    "For any layer construction in Keras, you'll need to specify the input shape in advance. This is because in Keras, the shape of the weights is based on the shape of the inputs. The weights are only created when the model first sees some input data. Sequential models can be created by passing a list of layers to the Sequential constructor, like you will do in the next assignment.\n",
    "\n",
    "<a name='ex-1'></a>\n",
    "### Exercise 1 - happyModel\n",
    "\n",
    "Implement the `happyModel` function below to build the following model: `ZEROPAD2D -> CONV2D -> BATCHNORM -> RELU -> MAXPOOL -> FLATTEN -> DENSE`. Take help from [tf.keras.layers](https://www.tensorflow.org/api_docs/python/tf/keras/layers) \n",
    "\n",
    "Also, plug in the following parameters for all the steps:\n",
    "\n",
    " - [ZeroPadding2D](https://www.tensorflow.org/api_docs/python/tf/keras/layers/ZeroPadding2D): padding 3, input shape 64 x 64 x 3\n",
    " - [Conv2D](https://www.tensorflow.org/api_docs/python/tf/keras/layers/Conv2D): Use 32 7x7 filters, stride 1\n",
    " - [BatchNormalization](https://www.tensorflow.org/api_docs/python/tf/keras/layers/BatchNormalization): for axis 3\n",
    " - [ReLU](https://www.tensorflow.org/api_docs/python/tf/keras/layers/ReLU)\n",
    " - [MaxPool2D](https://www.tensorflow.org/api_docs/python/tf/keras/layers/MaxPool2D): Using default parameters\n",
    " - [Flatten](https://www.tensorflow.org/api_docs/python/tf/keras/layers/Flatten) the previous output.\n",
    " - Fully-connected ([Dense](https://www.tensorflow.org/api_docs/python/tf/keras/layers/Dense)) layer: Apply a fully connected layer with 1 neuron and a sigmoid activation. \n",
    " \n",
    " \n",
    " **Hint:**\n",
    " \n",
    " Use **tfl** as shorthand for **tensorflow.keras.layers**"
   ]
  },
  {
   "cell_type": "code",
   "execution_count": 6,
   "metadata": {
    "deletable": false,
    "nbgrader": {
     "cell_type": "code",
     "checksum": "95d28b191f257bdd5b70c7b8952559d5",
     "grade": false,
     "grade_id": "cell-0e56d3fc28b69aec",
     "locked": false,
     "schema_version": 3,
     "solution": true,
     "task": false
    }
   },
   "outputs": [],
   "source": [
    "# GRADED FUNCTION: happyModel\n",
    "\n",
    "def happyModel():\n",
    "    \"\"\"\n",
    "    Implements the forward propagation for the binary classification model:\n",
    "    ZEROPAD2D -> CONV2D -> BATCHNORM -> RELU -> MAXPOOL -> FLATTEN -> DENSE\n",
    "    \n",
    "    Note that for simplicity and grading purposes, you'll hard-code all the values\n",
    "    such as the stride and kernel (filter) sizes. \n",
    "    Normally, functions should take these values as function parameters.\n",
    "    \n",
    "    Arguments:\n",
    "    None\n",
    "\n",
    "    Returns:\n",
    "    model -- TF Keras model (object containing the information for the entire training process) \n",
    "    \"\"\"\n",
    "    model = tf.keras.Sequential([\n",
    "            ## ZeroPadding2D with padding 3, input shape of 64 x 64 x 3\n",
    "            \n",
    "            ## Conv2D with 32 7x7 filters and stride of 1\n",
    "            \n",
    "            ## BatchNormalization for axis 3\n",
    "            \n",
    "            ## ReLU\n",
    "            \n",
    "            ## Max Pooling 2D with default parameters\n",
    "            \n",
    "            ## Flatten layer\n",
    "            \n",
    "            ## Dense layer with 1 unit for output & 'sigmoid' activation\n",
    "            \n",
    "            # YOUR CODE STARTS HERE\n",
    "            tf.keras.layers.ZeroPadding2D(padding= 3, input_shape = (64,64,3), data_format='channels_last'),\n",
    "            tf.keras.layers.Conv2D(filters = 32, kernel_size = (7, 7), strides=(1, 1)),\n",
    "            tf.keras.layers.BatchNormalization(axis=3),\n",
    "            tf.keras.layers.ReLU(),\n",
    "            tf.keras.layers.MaxPooling2D(),\n",
    "            tf.keras.layers.Flatten(),\n",
    "            tf.keras.layers.Dense( units = 1, activation='sigmoid')\n",
    "            \n",
    "            \n",
    "            # YOUR CODE ENDS HERE\n",
    "        ])\n",
    "    \n",
    "    return model"
   ]
  },
  {
   "cell_type": "code",
   "execution_count": 7,
   "metadata": {
    "deletable": false,
    "editable": false,
    "nbgrader": {
     "cell_type": "code",
     "checksum": "8d3575c950e2e78149be2d05d671c80d",
     "grade": true,
     "grade_id": "cell-e3e1046e5c33d775",
     "locked": true,
     "points": 10,
     "schema_version": 3,
     "solution": false,
     "task": false
    }
   },
   "outputs": [
    {
     "name": "stdout",
     "output_type": "stream",
     "text": [
      "['ZeroPadding2D', (None, 70, 70, 3), 0, ((3, 3), (3, 3))]\n",
      "['Conv2D', (None, 64, 64, 32), 4736, 'valid', 'linear', 'GlorotUniform']\n",
      "['BatchNormalization', (None, 64, 64, 32), 128]\n",
      "['ReLU', (None, 64, 64, 32), 0]\n",
      "['MaxPooling2D', (None, 32, 32, 32), 0, (2, 2), (2, 2), 'valid']\n",
      "['Flatten', (None, 32768), 0]\n",
      "['Dense', (None, 1), 32769, 'sigmoid']\n",
      "\u001b[32mAll tests passed!\u001b[0m\n"
     ]
    }
   ],
   "source": [
    "happy_model = happyModel()\n",
    "# Print a summary for each layer\n",
    "for layer in summary(happy_model):\n",
    "    print(layer)\n",
    "    \n",
    "output = [['ZeroPadding2D', (None, 70, 70, 3), 0, ((3, 3), (3, 3))],\n",
    "            ['Conv2D', (None, 64, 64, 32), 4736, 'valid', 'linear', 'GlorotUniform'],\n",
    "            ['BatchNormalization', (None, 64, 64, 32), 128],\n",
    "            ['ReLU', (None, 64, 64, 32), 0],\n",
    "            ['MaxPooling2D', (None, 32, 32, 32), 0, (2, 2), (2, 2), 'valid'],\n",
    "            ['Flatten', (None, 32768), 0],\n",
    "            ['Dense', (None, 1), 32769, 'sigmoid']]\n",
    "    \n",
    "comparator(summary(happy_model), output)"
   ]
  },
  {
   "cell_type": "markdown",
   "metadata": {},
   "source": [
    "#### Expected Output:\n",
    "\n",
    "```\n",
    "['ZeroPadding2D', (None, 70, 70, 3), 0, ((3, 3), (3, 3))]\n",
    "['Conv2D', (None, 64, 64, 32), 4736, 'valid', 'linear', 'GlorotUniform']\n",
    "['BatchNormalization', (None, 64, 64, 32), 128]\n",
    "['ReLU', (None, 64, 64, 32), 0]\n",
    "['MaxPooling2D', (None, 32, 32, 32), 0, (2, 2), (2, 2), 'valid']\n",
    "['Flatten', (None, 32768), 0]\n",
    "['Dense', (None, 1), 32769, 'sigmoid']\n",
    "All tests passed!\n",
    "```"
   ]
  },
  {
   "cell_type": "markdown",
   "metadata": {},
   "source": [
    "Now that your model is created, you can compile it for training with an optimizer and loss of your choice. When the string `accuracy` is specified as a metric, the type of accuracy used will be automatically converted based on the loss function used. This is one of the many optimizations built into TensorFlow that make your life easier! If you'd like to read more on how the compiler operates, check the docs [here](https://www.tensorflow.org/api_docs/python/tf/keras/Model#compile)."
   ]
  },
  {
   "cell_type": "code",
   "execution_count": 8,
   "metadata": {},
   "outputs": [],
   "source": [
    "happy_model.compile(optimizer='adam',\n",
    "                   loss='binary_crossentropy',\n",
    "                   metrics=['accuracy'])"
   ]
  },
  {
   "cell_type": "markdown",
   "metadata": {},
   "source": [
    "It's time to check your model's parameters with the `.summary()` method. This will display the types of layers you have, the shape of the outputs, and how many parameters are in each layer. "
   ]
  },
  {
   "cell_type": "code",
   "execution_count": 9,
   "metadata": {},
   "outputs": [
    {
     "name": "stdout",
     "output_type": "stream",
     "text": [
      "Model: \"sequential\"\n",
      "_________________________________________________________________\n",
      "Layer (type)                 Output Shape              Param #   \n",
      "=================================================================\n",
      "zero_padding2d (ZeroPadding2 (None, 70, 70, 3)         0         \n",
      "_________________________________________________________________\n",
      "conv2d (Conv2D)              (None, 64, 64, 32)        4736      \n",
      "_________________________________________________________________\n",
      "batch_normalization (BatchNo (None, 64, 64, 32)        128       \n",
      "_________________________________________________________________\n",
      "re_lu (ReLU)                 (None, 64, 64, 32)        0         \n",
      "_________________________________________________________________\n",
      "max_pooling2d (MaxPooling2D) (None, 32, 32, 32)        0         \n",
      "_________________________________________________________________\n",
      "flatten (Flatten)            (None, 32768)             0         \n",
      "_________________________________________________________________\n",
      "dense (Dense)                (None, 1)                 32769     \n",
      "=================================================================\n",
      "Total params: 37,633\n",
      "Trainable params: 37,569\n",
      "Non-trainable params: 64\n",
      "_________________________________________________________________\n"
     ]
    }
   ],
   "source": [
    "happy_model.summary()"
   ]
  },
  {
   "cell_type": "markdown",
   "metadata": {},
   "source": [
    "<a name='3-2'></a>\n",
    "### 3.2 - Train and Evaluate the Model\n",
    "\n",
    "After creating the model, compiling it with your choice of optimizer and loss function, and doing a sanity check on its contents, you are now ready to build! \n",
    "\n",
    "Simply call `.fit()` to train. That's it! No need for mini-batching, saving, or complex backpropagation computations. That's all been done for you, as you're using a TensorFlow dataset with the batches specified already. You do have the option to specify epoch number or minibatch size if you like (for example, in the case of an un-batched dataset)."
   ]
  },
  {
   "cell_type": "code",
   "execution_count": 10,
   "metadata": {},
   "outputs": [
    {
     "name": "stdout",
     "output_type": "stream",
     "text": [
      "Epoch 1/10\n",
      "38/38 [==============================] - 4s 103ms/step - loss: 1.7208 - accuracy: 0.6550\n",
      "Epoch 2/10\n",
      "38/38 [==============================] - 4s 100ms/step - loss: 0.3190 - accuracy: 0.8767\n",
      "Epoch 3/10\n",
      "38/38 [==============================] - 4s 97ms/step - loss: 0.1586 - accuracy: 0.9367\n",
      "Epoch 4/10\n",
      "38/38 [==============================] - 4s 100ms/step - loss: 0.1029 - accuracy: 0.9533\n",
      "Epoch 5/10\n",
      "38/38 [==============================] - 4s 100ms/step - loss: 0.1196 - accuracy: 0.9533\n",
      "Epoch 6/10\n",
      "38/38 [==============================] - 4s 100ms/step - loss: 0.0908 - accuracy: 0.9683\n",
      "Epoch 7/10\n",
      "38/38 [==============================] - 4s 100ms/step - loss: 0.1604 - accuracy: 0.9383\n",
      "Epoch 8/10\n",
      "38/38 [==============================] - 4s 98ms/step - loss: 0.1936 - accuracy: 0.9367\n",
      "Epoch 9/10\n",
      "38/38 [==============================] - 4s 100ms/step - loss: 0.0794 - accuracy: 0.9683\n",
      "Epoch 10/10\n",
      "38/38 [==============================] - 4s 98ms/step - loss: 0.1036 - accuracy: 0.9617\n"
     ]
    },
    {
     "data": {
      "text/plain": [
       "<tensorflow.python.keras.callbacks.History at 0x7f258bfdf650>"
      ]
     },
     "execution_count": 10,
     "metadata": {},
     "output_type": "execute_result"
    }
   ],
   "source": [
    "happy_model.fit(X_train, Y_train, epochs=10, batch_size=16)"
   ]
  },
  {
   "cell_type": "markdown",
   "metadata": {},
   "source": [
    "After that completes, just use `.evaluate()` to evaluate against your test set. This function will print the value of the loss function and the performance metrics specified during the compilation of the model. In this case, the `binary_crossentropy` and the `accuracy` respectively."
   ]
  },
  {
   "cell_type": "code",
   "execution_count": 11,
   "metadata": {},
   "outputs": [
    {
     "name": "stdout",
     "output_type": "stream",
     "text": [
      "5/5 [==============================] - 0s 38ms/step - loss: 1.9863 - accuracy: 0.5600\n"
     ]
    },
    {
     "data": {
      "text/plain": [
       "[1.9862843751907349, 0.5600000023841858]"
      ]
     },
     "execution_count": 11,
     "metadata": {},
     "output_type": "execute_result"
    }
   ],
   "source": [
    "happy_model.evaluate(X_test, Y_test)"
   ]
  },
  {
   "cell_type": "markdown",
   "metadata": {},
   "source": [
    "Easy, right? But what if you need to build a model with shared layers, branches, or multiple inputs and outputs? This is where Sequential, with its beautifully simple yet limited functionality, won't be able to help you. \n",
    "\n",
    "Next up: Enter the Functional API, your slightly more complex, highly flexible friend.  "
   ]
  },
  {
   "cell_type": "markdown",
   "metadata": {},
   "source": [
    "<a name='4'></a>\n",
    "## 4 - The Functional API"
   ]
  },
  {
   "cell_type": "markdown",
   "metadata": {},
   "source": [
    "Welcome to the second half of the assignment, where you'll use Keras' flexible [Functional API](https://www.tensorflow.org/guide/keras/functional) to build a ConvNet that can differentiate between 6 sign language digits. \n",
    "\n",
    "The Functional API can handle models with non-linear topology, shared layers, as well as layers with multiple inputs or outputs. Imagine that, where the Sequential API requires the model to move in a linear fashion through its layers, the Functional API allows much more flexibility. Where Sequential is a straight line, a Functional model is a graph, where the nodes of the layers can connect in many more ways than one. \n",
    "\n",
    "In the visual example below, the one possible direction of the movement Sequential model is shown in contrast to a skip connection, which is just one of the many ways a Functional model can be constructed. A skip connection, as you might have guessed, skips some layer in the network and feeds the output to a later layer in the network. Don't worry, you'll be spending more time with skip connections very soon! "
   ]
  },
  {
   "cell_type": "markdown",
   "metadata": {},
   "source": [
    "<img src=\"images/seq_vs_func.png\" style=\"width:350px;height:200px;\">"
   ]
  },
  {
   "cell_type": "markdown",
   "metadata": {},
   "source": [
    "<a name='4-1'></a>\n",
    "### 4.1 - Load the SIGNS Dataset\n",
    "\n",
    "As a reminder, the SIGNS dataset is a collection of 6 signs representing numbers from 0 to 5."
   ]
  },
  {
   "cell_type": "code",
   "execution_count": 12,
   "metadata": {},
   "outputs": [],
   "source": [
    "# Loading the data (signs)\n",
    "X_train_orig, Y_train_orig, X_test_orig, Y_test_orig, classes = load_signs_dataset()"
   ]
  },
  {
   "cell_type": "markdown",
   "metadata": {},
   "source": [
    "<img src=\"images/SIGNS.png\" style=\"width:800px;height:300px;\">\n",
    "\n",
    "The next cell will show you an example of a labelled image in the dataset. Feel free to change the value of `index` below and re-run to see different examples. "
   ]
  },
  {
   "cell_type": "code",
   "execution_count": 13,
   "metadata": {},
   "outputs": [
    {
     "name": "stdout",
     "output_type": "stream",
     "text": [
      "y = 4\n"
     ]
    },
    {
     "data": {
      "image/png": "[encoded data removed]",
      "text/plain": [
       "<Figure size 432x288 with 1 Axes>"
      ]
     },
     "metadata": {
      "needs_background": "light"
     },
     "output_type": "display_data"
    }
   ],
   "source": [
    "# Example of an image from the dataset\n",
    "index = 9\n",
    "plt.imshow(X_train_orig[index])\n",
    "print (\"y = \" + str(np.squeeze(Y_train_orig[:, index])))"
   ]
  },
  {
   "cell_type": "markdown",
   "metadata": {},
   "source": [
    "<a name='4-2'></a>\n",
    "### 4.2 - Split the Data into Train/Test Sets\n",
    "\n",
    "In Course 2, you built a fully-connected network for this dataset. But since this is an image dataset, it is more natural to apply a ConvNet to it.\n",
    "\n",
    "To get started, let's examine the shapes of your data. "
   ]
  },
  {
   "cell_type": "code",
   "execution_count": 14,
   "metadata": {},
   "outputs": [
    {
     "name": "stdout",
     "output_type": "stream",
     "text": [
      "number of training examples = 1080\n",
      "number of test examples = 120\n",
      "X_train shape: (1080, 64, 64, 3)\n",
      "Y_train shape: (1080, 6)\n",
      "X_test shape: (120, 64, 64, 3)\n",
      "Y_test shape: (120, 6)\n"
     ]
    }
   ],
   "source": [
    "X_train = X_train_orig/255.\n",
    "X_test = X_test_orig/255.\n",
    "Y_train = convert_to_one_hot(Y_train_orig, 6).T\n",
    "Y_test = convert_to_one_hot(Y_test_orig, 6).T\n",
    "print (\"number of training examples = \" + str(X_train.shape[0]))\n",
    "print (\"number of test examples = \" + str(X_test.shape[0]))\n",
    "print (\"X_train shape: \" + str(X_train.shape))\n",
    "print (\"Y_train shape: \" + str(Y_train.shape))\n",
    "print (\"X_test shape: \" + str(X_test.shape))\n",
    "print (\"Y_test shape: \" + str(Y_test.shape))"
   ]
  },
  {
   "cell_type": "markdown",
   "metadata": {},
   "source": [
    "<a name='4-3'></a>\n",
    "### 4.3 - Forward Propagation\n",
    "\n",
    "In TensorFlow, there are built-in functions that implement the convolution steps for you. By now, you should be familiar with how TensorFlow builds computational graphs. In the [Functional API](https://www.tensorflow.org/guide/keras/functional), you create a graph of layers. This is what allows such great flexibility.\n",
    "\n",
    "However, the following model could also be defined using the Sequential API since the information flow is on a single line. But don't deviate. What we want you to learn is to use the functional API.\n",
    "\n",
    "Begin building your graph of layers by creating an input node that functions as a callable object:\n",
    "\n",
    "- **input_img = tf.keras.Input(shape=input_shape):** \n",
    "\n",
    "Then, create a new node in the graph of layers by calling a layer on the `input_img` object: \n",
    "\n",
    "- **tf.keras.layers.Conv2D(filters= ... , kernel_size= ... , padding='same')(input_img):** Read the full documentation on [Conv2D](https://www.tensorflow.org/api_docs/python/tf/keras/layers/Conv2D).\n",
    "\n",
    "- **tf.keras.layers.MaxPool2D(pool_size=(f, f), strides=(s, s), padding='same'):** `MaxPool2D()` downsamples your input using a window of size (f, f) and strides of size (s, s) to carry out max pooling over each window.  For max pooling, you usually operate on a single example at a time and a single channel at a time. Read the full documentation on [MaxPool2D](https://www.tensorflow.org/api_docs/python/tf/keras/layers/MaxPool2D).\n",
    "\n",
    "- **tf.keras.layers.ReLU():** computes the elementwise ReLU of Z (which can be any shape). You can read the full documentation on [ReLU](https://www.tensorflow.org/api_docs/python/tf/keras/layers/ReLU).\n",
    "\n",
    "- **tf.keras.layers.Flatten()**: given a tensor \"P\", this function takes each training (or test) example in the batch and flattens it into a 1D vector.  \n",
    "\n",
    "    * If a tensor P has the shape (batch_size,h,w,c), it returns a flattened tensor with shape (batch_size, k), where $k=h \\times w \\times c$.  \"k\" equals the product of all the dimension sizes other than the first dimension.\n",
    "    \n",
    "    * For example, given a tensor with dimensions [100, 2, 3, 4], it flattens the tensor to be of shape [100, 24], where 24 = 2 * 3 * 4.  You can read the full documentation on [Flatten](https://www.tensorflow.org/api_docs/python/tf/keras/layers/Flatten).\n",
    "\n",
    "- **tf.keras.layers.Dense(units= ... , activation='softmax')(F):** given the flattened input F, it returns the output computed using a fully connected layer. You can read the full documentation on [Dense](https://www.tensorflow.org/api_docs/python/tf/keras/layers/Dense).\n",
    "\n",
    "In the last function above (`tf.keras.layers.Dense()`), the fully connected layer automatically initializes weights in the graph and keeps on training them as you train the model. Hence, you did not need to initialize those weights when initializing the parameters.\n",
    "\n",
    "Lastly, before creating the model, you'll need to define the output using the last of the function's compositions (in this example, a Dense layer): \n",
    "\n",
    "- **outputs = tf.keras.layers.Dense(units=6, activation='softmax')(F)**\n",
    "\n",
    "\n",
    "#### Window, kernel, filter, pool\n",
    "\n",
    "The words \"kernel\" and \"filter\" are used to refer to the same thing. The word \"filter\" accounts for the amount of \"kernels\" that will be used in a single convolution layer. \"Pool\" is the name of the operation that takes the max or average value of the kernels. \n",
    "\n",
    "This is why the parameter `pool_size` refers to `kernel_size`, and you use `(f,f)` to refer to the filter size. \n",
    "\n",
    "Pool size and kernel size refer to the same thing in different objects - They refer to the shape of the window where the operation takes place. "
   ]
  },
  {
   "cell_type": "markdown",
   "metadata": {},
   "source": [
    "<a name='ex-2'></a>\n",
    "### Exercise 2 - convolutional_model\n",
    "\n",
    "Implement the `convolutional_model` function below to build the following model: `CONV2D -> RELU -> MAXPOOL -> CONV2D -> RELU -> MAXPOOL -> FLATTEN -> DENSE`. Use the functions above! \n",
    "\n",
    "Also, plug in the following parameters for all the steps:\n",
    "\n",
    " - [Conv2D](https://www.tensorflow.org/api_docs/python/tf/keras/layers/Conv2D): Use 8 4 by 4 filters, stride 1, padding is \"SAME\"\n",
    " - [ReLU](https://www.tensorflow.org/api_docs/python/tf/keras/layers/ReLU)\n",
    " - [MaxPool2D](https://www.tensorflow.org/api_docs/python/tf/keras/layers/MaxPool2D): Use an 8 by 8 filter size and an 8 by 8 stride, padding is \"SAME\"\n",
    " - **Conv2D**: Use 16 2 by 2 filters, stride 1, padding is \"SAME\"\n",
    " - **ReLU**\n",
    " - **MaxPool2D**: Use a 4 by 4 filter size and a 4 by 4 stride, padding is \"SAME\"\n",
    " - [Flatten](https://www.tensorflow.org/api_docs/python/tf/keras/layers/Flatten) the previous output.\n",
    " - Fully-connected ([Dense](https://www.tensorflow.org/api_docs/python/tf/keras/layers/Dense)) layer: Apply a fully connected layer with 6 neurons and a softmax activation. "
   ]
  },
  {
   "cell_type": "code",
   "execution_count": 23,
   "metadata": {
    "deletable": false,
    "nbgrader": {
     "cell_type": "code",
     "checksum": "f58643806aa8380c96225fc8b4c5e7aa",
     "grade": false,
     "grade_id": "cell-dac51744a9e03f51",
     "locked": false,
     "schema_version": 3,
     "solution": true,
     "task": false
    }
   },
   "outputs": [],
   "source": [
    "# GRADED FUNCTION: convolutional_model\n",
    "\n",
    "def convolutional_model(input_shape):\n",
    "    \"\"\"\n",
    "    Implements the forward propagation for the model:\n",
    "    CONV2D -> RELU -> MAXPOOL -> CONV2D -> RELU -> MAXPOOL -> FLATTEN -> DENSE\n",
    "    \n",
    "    Note that for simplicity and grading purposes, you'll hard-code some values\n",
    "    such as the stride and kernel (filter) sizes. \n",
    "    Normally, functions should take these values as function parameters.\n",
    "    \n",
    "    Arguments:\n",
    "    input_img -- input dataset, of shape (input_shape)\n",
    "\n",
    "    Returns:\n",
    "    model -- TF Keras model (object containing the information for the entire training process) \n",
    "    \"\"\"\n",
    "\n",
    "    input_img = tf.keras.Input(shape=input_shape)\n",
    "    ## CONV2D: 8 filters 4x4, stride of 1, padding 'SAME'\n",
    "    # Z1 = None\n",
    "    ## RELU\n",
    "    # A1 = None\n",
    "    ## MAXPOOL: window 8x8, stride 8, padding 'SAME'\n",
    "    # P1 = None\n",
    "    ## CONV2D: 16 filters 2x2, stride 1, padding 'SAME'\n",
    "    # Z2 = None\n",
    "    ## RELU\n",
    "    # A2 = None\n",
    "    ## MAXPOOL: window 4x4, stride 4, padding 'SAME'\n",
    "    # P2 = None\n",
    "    ## FLATTEN\n",
    "    # F = None\n",
    "    ## Dense layer\n",
    "    ## 6 neurons in output layer. Hint: one of the arguments should be \"activation='softmax'\" \n",
    "    # outputs = None\n",
    "    # YOUR CODE STARTS HERE\n",
    "    Z1 = tf.keras.layers.Conv2D(filters = 8, kernel_size = (4, 4), strides = (1,1), padding = \"same\")(input_img)\n",
    "    A1 = tf.keras.layers.ReLU()(Z1)\n",
    "    P1 = tf.keras.layers.MaxPooling2D(pool_size=(8, 8), strides=(8,8), padding='same')(A1)\n",
    "    Z2 = tf.keras.layers.Conv2D( filters = 16, kernel_size = (2, 2), strides = (1,1), padding = 'same')(P1)\n",
    "    A2 = tf.keras.layers.ReLU()(Z2)\n",
    "    P2 = tf.keras.layers.MaxPooling2D(pool_size=(4, 4), strides=(4,4), padding='same')(A2)\n",
    "    F = tf.keras.layers.Flatten()(P2)\n",
    "    outputs = tf.keras.layers.Dense(units = 6, activation = 'softmax')(F)\n",
    "    \n",
    "    # YOUR CODE ENDS HERE\n",
    "    model = tf.keras.Model(inputs=input_img, outputs=outputs)\n",
    "    return model"
   ]
  },
  {
   "cell_type": "code",
   "execution_count": 24,
   "metadata": {
    "deletable": false,
    "editable": false,
    "nbgrader": {
     "cell_type": "code",
     "checksum": "483d626949930a0b0ef20997e7c6ba72",
     "grade": true,
     "grade_id": "cell-45d22e92042174c9",
     "locked": true,
     "points": 10,
     "schema_version": 3,
     "solution": false,
     "task": false
    }
   },
   "outputs": [
    {
     "name": "stdout",
     "output_type": "stream",
     "text": [
      "Model: \"functional_2\"\n",
      "_________________________________________________________________\n",
      "Layer (type)                 Output Shape              Param #   \n",
      "=================================================================\n",
      "input_5 (InputLayer)         [(None, 64, 64, 3)]       0         \n",
      "_________________________________________________________________\n",
      "conv2d_4 (Conv2D)            (None, 64, 64, 8)         392       \n",
      "_________________________________________________________________\n",
      "re_lu_4 (ReLU)               (None, 64, 64, 8)         0         \n",
      "_________________________________________________________________\n",
      "max_pooling2d_4 (MaxPooling2 (None, 8, 8, 8)           0         \n",
      "_________________________________________________________________\n",
      "conv2d_5 (Conv2D)            (None, 8, 8, 16)          528       \n",
      "_________________________________________________________________\n",
      "re_lu_5 (ReLU)               (None, 8, 8, 16)          0         \n",
      "_________________________________________________________________\n",
      "max_pooling2d_5 (MaxPooling2 (None, 2, 2, 16)          0         \n",
      "_________________________________________________________________\n",
      "flatten_2 (Flatten)          (None, 64)                0         \n",
      "_________________________________________________________________\n",
      "dense_2 (Dense)              (None, 6)                 390       \n",
      "=================================================================\n",
      "Total params: 1,310\n",
      "Trainable params: 1,310\n",
      "Non-trainable params: 0\n",
      "_________________________________________________________________\n",
      "\u001b[32mAll tests passed!\u001b[0m\n"
     ]
    }
   ],
   "source": [
    "conv_model = convolutional_model((64, 64, 3))\n",
    "conv_model.compile(optimizer='adam',\n",
    "                  loss='categorical_crossentropy',\n",
    "                  metrics=['accuracy'])\n",
    "conv_model.summary()\n",
    "    \n",
    "output = [['InputLayer', [(None, 64, 64, 3)], 0],\n",
    "        ['Conv2D', (None, 64, 64, 8), 392, 'same', 'linear', 'GlorotUniform'],\n",
    "        ['ReLU', (None, 64, 64, 8), 0],\n",
    "        ['MaxPooling2D', (None, 8, 8, 8), 0, (8, 8), (8, 8), 'same'],\n",
    "        ['Conv2D', (None, 8, 8, 16), 528, 'same', 'linear', 'GlorotUniform'],\n",
    "        ['ReLU', (None, 8, 8, 16), 0],\n",
    "        ['MaxPooling2D', (None, 2, 2, 16), 0, (4, 4), (4, 4), 'same'],\n",
    "        ['Flatten', (None, 64), 0],\n",
    "        ['Dense', (None, 6), 390, 'softmax']]\n",
    "    \n",
    "comparator(summary(conv_model), output)"
   ]
  },
  {
   "cell_type": "markdown",
   "metadata": {},
   "source": [
    "Both the Sequential and Functional APIs return a TF Keras model object. The only difference is how inputs are handled inside the object model! "
   ]
  },
  {
   "cell_type": "markdown",
   "metadata": {},
   "source": [
    "<a name='4-4'></a>\n",
    "### 4.4 - Train the Model"
   ]
  },
  {
   "cell_type": "code",
   "execution_count": 25,
   "metadata": {},
   "outputs": [
    {
     "name": "stdout",
     "output_type": "stream",
     "text": [
      "Epoch 1/100\n",
      "17/17 [==============================] - 2s 107ms/step - loss: 1.7961 - accuracy: 0.1583 - val_loss: 1.7860 - val_accuracy: 0.1667\n",
      "Epoch 2/100\n",
      "17/17 [==============================] - 2s 106ms/step - loss: 1.7815 - accuracy: 0.2481 - val_loss: 1.7803 - val_accuracy: 0.2750\n",
      "Epoch 3/100\n",
      "17/17 [==============================] - 2s 106ms/step - loss: 1.7746 - accuracy: 0.3370 - val_loss: 1.7729 - val_accuracy: 0.3083\n",
      "Epoch 4/100\n",
      "17/17 [==============================] - 2s 106ms/step - loss: 1.7670 - accuracy: 0.3148 - val_loss: 1.7649 - val_accuracy: 0.3333\n",
      "Epoch 5/100\n",
      "17/17 [==============================] - 2s 112ms/step - loss: 1.7576 - accuracy: 0.3417 - val_loss: 1.7559 - val_accuracy: 0.3833\n",
      "Epoch 6/100\n",
      "17/17 [==============================] - 2s 111ms/step - loss: 1.7454 - accuracy: 0.4019 - val_loss: 1.7427 - val_accuracy: 0.3583\n",
      "Epoch 7/100\n",
      "17/17 [==============================] - 2s 111ms/step - loss: 1.7292 - accuracy: 0.4454 - val_loss: 1.7267 - val_accuracy: 0.3750\n",
      "Epoch 8/100\n",
      "17/17 [==============================] - 2s 106ms/step - loss: 1.7088 - accuracy: 0.4769 - val_loss: 1.7076 - val_accuracy: 0.4083\n",
      "Epoch 9/100\n",
      "17/17 [==============================] - 2s 106ms/step - loss: 1.6832 - accuracy: 0.4852 - val_loss: 1.6847 - val_accuracy: 0.4583\n",
      "Epoch 10/100\n",
      "17/17 [==============================] - 2s 106ms/step - loss: 1.6529 - accuracy: 0.4991 - val_loss: 1.6577 - val_accuracy: 0.4750\n",
      "Epoch 11/100\n",
      "17/17 [==============================] - 2s 106ms/step - loss: 1.6156 - accuracy: 0.5074 - val_loss: 1.6262 - val_accuracy: 0.4833\n",
      "Epoch 12/100\n",
      "17/17 [==============================] - 2s 106ms/step - loss: 1.5748 - accuracy: 0.5139 - val_loss: 1.5903 - val_accuracy: 0.4833\n",
      "Epoch 13/100\n",
      "17/17 [==============================] - 2s 106ms/step - loss: 1.5287 - accuracy: 0.5250 - val_loss: 1.5534 - val_accuracy: 0.4750\n",
      "Epoch 14/100\n",
      "17/17 [==============================] - 2s 111ms/step - loss: 1.4818 - accuracy: 0.5417 - val_loss: 1.5156 - val_accuracy: 0.4833\n",
      "Epoch 15/100\n",
      "17/17 [==============================] - 2s 111ms/step - loss: 1.4363 - accuracy: 0.5556 - val_loss: 1.4813 - val_accuracy: 0.5000\n",
      "Epoch 16/100\n",
      "17/17 [==============================] - 2s 111ms/step - loss: 1.3948 - accuracy: 0.5602 - val_loss: 1.4442 - val_accuracy: 0.5250\n",
      "Epoch 17/100\n",
      "17/17 [==============================] - 2s 106ms/step - loss: 1.3543 - accuracy: 0.5787 - val_loss: 1.4073 - val_accuracy: 0.5167\n",
      "Epoch 18/100\n",
      "17/17 [==============================] - 2s 106ms/step - loss: 1.3155 - accuracy: 0.5907 - val_loss: 1.3705 - val_accuracy: 0.5250\n",
      "Epoch 19/100\n",
      "17/17 [==============================] - 2s 106ms/step - loss: 1.2790 - accuracy: 0.6000 - val_loss: 1.3345 - val_accuracy: 0.5333\n",
      "Epoch 20/100\n",
      "17/17 [==============================] - 2s 106ms/step - loss: 1.2437 - accuracy: 0.6111 - val_loss: 1.2986 - val_accuracy: 0.5250\n",
      "Epoch 21/100\n",
      "17/17 [==============================] - 2s 106ms/step - loss: 1.2103 - accuracy: 0.6194 - val_loss: 1.2644 - val_accuracy: 0.5333\n",
      "Epoch 22/100\n",
      "17/17 [==============================] - 2s 106ms/step - loss: 1.1788 - accuracy: 0.6343 - val_loss: 1.2307 - val_accuracy: 0.5500\n",
      "Epoch 23/100\n",
      "17/17 [==============================] - 2s 111ms/step - loss: 1.1491 - accuracy: 0.6454 - val_loss: 1.1984 - val_accuracy: 0.5667\n",
      "Epoch 24/100\n",
      "17/17 [==============================] - 2s 111ms/step - loss: 1.1200 - accuracy: 0.6565 - val_loss: 1.1684 - val_accuracy: 0.5833\n",
      "Epoch 25/100\n",
      "17/17 [==============================] - 2s 105ms/step - loss: 1.0934 - accuracy: 0.6583 - val_loss: 1.1384 - val_accuracy: 0.6000\n",
      "Epoch 26/100\n",
      "17/17 [==============================] - 2s 106ms/step - loss: 1.0653 - accuracy: 0.6685 - val_loss: 1.1113 - val_accuracy: 0.6000\n",
      "Epoch 27/100\n",
      "17/17 [==============================] - 2s 106ms/step - loss: 1.0393 - accuracy: 0.6815 - val_loss: 1.0848 - val_accuracy: 0.6083\n",
      "Epoch 28/100\n",
      "17/17 [==============================] - 2s 106ms/step - loss: 1.0140 - accuracy: 0.6944 - val_loss: 1.0603 - val_accuracy: 0.6083\n",
      "Epoch 29/100\n",
      "17/17 [==============================] - 2s 106ms/step - loss: 0.9901 - accuracy: 0.7046 - val_loss: 1.0365 - val_accuracy: 0.6333\n",
      "Epoch 30/100\n",
      "17/17 [==============================] - 2s 106ms/step - loss: 0.9673 - accuracy: 0.7093 - val_loss: 1.0138 - val_accuracy: 0.6417\n",
      "Epoch 31/100\n",
      "17/17 [==============================] - 2s 111ms/step - loss: 0.9448 - accuracy: 0.7167 - val_loss: 0.9924 - val_accuracy: 0.6500\n",
      "Epoch 32/100\n",
      "17/17 [==============================] - 2s 106ms/step - loss: 0.9227 - accuracy: 0.7269 - val_loss: 0.9722 - val_accuracy: 0.6583\n",
      "Epoch 33/100\n",
      "17/17 [==============================] - 2s 106ms/step - loss: 0.9018 - accuracy: 0.7370 - val_loss: 0.9523 - val_accuracy: 0.6917\n",
      "Epoch 34/100\n",
      "17/17 [==============================] - 2s 112ms/step - loss: 0.8814 - accuracy: 0.7444 - val_loss: 0.9343 - val_accuracy: 0.6833\n",
      "Epoch 35/100\n",
      "17/17 [==============================] - 2s 106ms/step - loss: 0.8618 - accuracy: 0.7556 - val_loss: 0.9173 - val_accuracy: 0.6750\n",
      "Epoch 36/100\n",
      "17/17 [==============================] - 2s 106ms/step - loss: 0.8437 - accuracy: 0.7602 - val_loss: 0.9004 - val_accuracy: 0.6833\n",
      "Epoch 37/100\n",
      "17/17 [==============================] - 2s 106ms/step - loss: 0.8260 - accuracy: 0.7648 - val_loss: 0.8851 - val_accuracy: 0.6833\n",
      "Epoch 38/100\n",
      "17/17 [==============================] - 2s 106ms/step - loss: 0.8096 - accuracy: 0.7694 - val_loss: 0.8698 - val_accuracy: 0.6917\n",
      "Epoch 39/100\n",
      "17/17 [==============================] - 2s 106ms/step - loss: 0.7936 - accuracy: 0.7713 - val_loss: 0.8556 - val_accuracy: 0.7000\n",
      "Epoch 40/100\n",
      "17/17 [==============================] - 2s 106ms/step - loss: 0.7779 - accuracy: 0.7750 - val_loss: 0.8421 - val_accuracy: 0.7083\n",
      "Epoch 41/100\n",
      "17/17 [==============================] - 2s 106ms/step - loss: 0.7630 - accuracy: 0.7796 - val_loss: 0.8295 - val_accuracy: 0.7083\n",
      "Epoch 42/100\n",
      "17/17 [==============================] - 2s 107ms/step - loss: 0.7486 - accuracy: 0.7852 - val_loss: 0.8172 - val_accuracy: 0.7083\n",
      "Epoch 43/100\n",
      "17/17 [==============================] - 2s 112ms/step - loss: 0.7349 - accuracy: 0.7880 - val_loss: 0.8050 - val_accuracy: 0.7167\n",
      "Epoch 44/100\n",
      "17/17 [==============================] - 2s 106ms/step - loss: 0.7218 - accuracy: 0.7917 - val_loss: 0.7930 - val_accuracy: 0.7250\n",
      "Epoch 45/100\n",
      "17/17 [==============================] - 2s 107ms/step - loss: 0.7092 - accuracy: 0.7935 - val_loss: 0.7812 - val_accuracy: 0.7250\n",
      "Epoch 46/100\n",
      "17/17 [==============================] - 2s 106ms/step - loss: 0.6967 - accuracy: 0.7954 - val_loss: 0.7702 - val_accuracy: 0.7333\n",
      "Epoch 47/100\n",
      "17/17 [==============================] - 2s 106ms/step - loss: 0.6848 - accuracy: 0.8009 - val_loss: 0.7597 - val_accuracy: 0.7333\n",
      "Epoch 48/100\n",
      "17/17 [==============================] - 2s 107ms/step - loss: 0.6734 - accuracy: 0.8083 - val_loss: 0.7496 - val_accuracy: 0.7333\n",
      "Epoch 49/100\n",
      "17/17 [==============================] - 2s 106ms/step - loss: 0.6621 - accuracy: 0.8120 - val_loss: 0.7397 - val_accuracy: 0.7417\n",
      "Epoch 50/100\n",
      "17/17 [==============================] - 2s 106ms/step - loss: 0.6514 - accuracy: 0.8139 - val_loss: 0.7307 - val_accuracy: 0.7417\n",
      "Epoch 51/100\n",
      "17/17 [==============================] - 2s 111ms/step - loss: 0.6409 - accuracy: 0.8194 - val_loss: 0.7208 - val_accuracy: 0.7417\n",
      "Epoch 52/100\n",
      "17/17 [==============================] - 2s 107ms/step - loss: 0.6309 - accuracy: 0.8222 - val_loss: 0.7120 - val_accuracy: 0.7417\n",
      "Epoch 53/100\n",
      "17/17 [==============================] - 2s 106ms/step - loss: 0.6212 - accuracy: 0.8222 - val_loss: 0.7034 - val_accuracy: 0.7417\n",
      "Epoch 54/100\n",
      "17/17 [==============================] - 2s 106ms/step - loss: 0.6119 - accuracy: 0.8250 - val_loss: 0.6953 - val_accuracy: 0.7417\n",
      "Epoch 55/100\n",
      "17/17 [==============================] - 2s 106ms/step - loss: 0.6023 - accuracy: 0.8278 - val_loss: 0.6867 - val_accuracy: 0.7583\n",
      "Epoch 56/100\n",
      "17/17 [==============================] - 2s 106ms/step - loss: 0.5931 - accuracy: 0.8269 - val_loss: 0.6792 - val_accuracy: 0.7500\n",
      "Epoch 57/100\n",
      "17/17 [==============================] - 2s 106ms/step - loss: 0.5844 - accuracy: 0.8296 - val_loss: 0.6714 - val_accuracy: 0.7583\n",
      "Epoch 58/100\n",
      "17/17 [==============================] - 2s 106ms/step - loss: 0.5758 - accuracy: 0.8333 - val_loss: 0.6642 - val_accuracy: 0.7667\n",
      "Epoch 59/100\n",
      "17/17 [==============================] - 2s 111ms/step - loss: 0.5675 - accuracy: 0.8352 - val_loss: 0.6569 - val_accuracy: 0.7833\n",
      "Epoch 60/100\n",
      "17/17 [==============================] - 2s 106ms/step - loss: 0.5590 - accuracy: 0.8380 - val_loss: 0.6497 - val_accuracy: 0.7833\n",
      "Epoch 61/100\n",
      "17/17 [==============================] - 2s 106ms/step - loss: 0.5509 - accuracy: 0.8398 - val_loss: 0.6427 - val_accuracy: 0.7833\n",
      "Epoch 62/100\n",
      "17/17 [==============================] - 2s 111ms/step - loss: 0.5433 - accuracy: 0.8426 - val_loss: 0.6364 - val_accuracy: 0.7833\n",
      "Epoch 63/100\n",
      "17/17 [==============================] - 2s 106ms/step - loss: 0.5356 - accuracy: 0.8435 - val_loss: 0.6301 - val_accuracy: 0.7750\n",
      "Epoch 64/100\n",
      "17/17 [==============================] - 2s 106ms/step - loss: 0.5279 - accuracy: 0.8444 - val_loss: 0.6233 - val_accuracy: 0.7833\n",
      "Epoch 65/100\n",
      "17/17 [==============================] - 2s 102ms/step - loss: 0.5201 - accuracy: 0.8454 - val_loss: 0.6179 - val_accuracy: 0.7833\n",
      "Epoch 66/100\n",
      "17/17 [==============================] - 2s 106ms/step - loss: 0.5131 - accuracy: 0.8481 - val_loss: 0.6121 - val_accuracy: 0.7833\n",
      "Epoch 67/100\n",
      "17/17 [==============================] - 2s 106ms/step - loss: 0.5061 - accuracy: 0.8509 - val_loss: 0.6064 - val_accuracy: 0.7917\n",
      "Epoch 68/100\n",
      "17/17 [==============================] - 2s 106ms/step - loss: 0.4989 - accuracy: 0.8546 - val_loss: 0.6009 - val_accuracy: 0.7917\n",
      "Epoch 69/100\n",
      "17/17 [==============================] - 2s 106ms/step - loss: 0.4923 - accuracy: 0.8565 - val_loss: 0.5956 - val_accuracy: 0.7917\n",
      "Epoch 70/100\n",
      "17/17 [==============================] - 2s 106ms/step - loss: 0.4857 - accuracy: 0.8602 - val_loss: 0.5897 - val_accuracy: 0.8000\n",
      "Epoch 71/100\n",
      "17/17 [==============================] - 2s 106ms/step - loss: 0.4790 - accuracy: 0.8611 - val_loss: 0.5844 - val_accuracy: 0.8167\n",
      "Epoch 72/100\n",
      "17/17 [==============================] - 2s 107ms/step - loss: 0.4725 - accuracy: 0.8639 - val_loss: 0.5792 - val_accuracy: 0.8000\n",
      "Epoch 73/100\n",
      "17/17 [==============================] - 2s 106ms/step - loss: 0.4663 - accuracy: 0.8657 - val_loss: 0.5740 - val_accuracy: 0.8250\n",
      "Epoch 74/100\n",
      "17/17 [==============================] - 2s 111ms/step - loss: 0.4604 - accuracy: 0.8694 - val_loss: 0.5703 - val_accuracy: 0.8167\n",
      "Epoch 75/100\n",
      "17/17 [==============================] - 2s 106ms/step - loss: 0.4547 - accuracy: 0.8704 - val_loss: 0.5652 - val_accuracy: 0.8333\n",
      "Epoch 76/100\n",
      "17/17 [==============================] - 2s 106ms/step - loss: 0.4491 - accuracy: 0.8741 - val_loss: 0.5614 - val_accuracy: 0.8333\n",
      "Epoch 77/100\n",
      "17/17 [==============================] - 2s 111ms/step - loss: 0.4434 - accuracy: 0.8759 - val_loss: 0.5568 - val_accuracy: 0.8333\n",
      "Epoch 78/100\n",
      "17/17 [==============================] - 2s 106ms/step - loss: 0.4377 - accuracy: 0.8769 - val_loss: 0.5536 - val_accuracy: 0.8333\n",
      "Epoch 79/100\n",
      "17/17 [==============================] - 2s 101ms/step - loss: 0.4320 - accuracy: 0.8778 - val_loss: 0.5482 - val_accuracy: 0.8417\n",
      "Epoch 80/100\n",
      "17/17 [==============================] - 2s 106ms/step - loss: 0.4266 - accuracy: 0.8796 - val_loss: 0.5454 - val_accuracy: 0.8417\n",
      "Epoch 81/100\n",
      "17/17 [==============================] - 2s 107ms/step - loss: 0.4217 - accuracy: 0.8796 - val_loss: 0.5399 - val_accuracy: 0.8417\n",
      "Epoch 82/100\n",
      "17/17 [==============================] - 2s 106ms/step - loss: 0.4165 - accuracy: 0.8815 - val_loss: 0.5370 - val_accuracy: 0.8417\n",
      "Epoch 83/100\n",
      "17/17 [==============================] - 2s 106ms/step - loss: 0.4118 - accuracy: 0.8833 - val_loss: 0.5317 - val_accuracy: 0.8417\n",
      "Epoch 84/100\n",
      "17/17 [==============================] - 2s 111ms/step - loss: 0.4068 - accuracy: 0.8852 - val_loss: 0.5286 - val_accuracy: 0.8417\n",
      "Epoch 85/100\n",
      "17/17 [==============================] - 2s 106ms/step - loss: 0.4020 - accuracy: 0.8852 - val_loss: 0.5249 - val_accuracy: 0.8500\n",
      "Epoch 86/100\n",
      "17/17 [==============================] - 2s 106ms/step - loss: 0.3971 - accuracy: 0.8852 - val_loss: 0.5214 - val_accuracy: 0.8417\n",
      "Epoch 87/100\n",
      "17/17 [==============================] - 2s 106ms/step - loss: 0.3926 - accuracy: 0.8870 - val_loss: 0.5175 - val_accuracy: 0.8500\n",
      "Epoch 88/100\n",
      "17/17 [==============================] - 2s 111ms/step - loss: 0.3883 - accuracy: 0.8889 - val_loss: 0.5140 - val_accuracy: 0.8500\n",
      "Epoch 89/100\n",
      "17/17 [==============================] - 2s 112ms/step - loss: 0.3840 - accuracy: 0.8907 - val_loss: 0.5095 - val_accuracy: 0.8583\n",
      "Epoch 90/100\n",
      "17/17 [==============================] - 2s 106ms/step - loss: 0.3798 - accuracy: 0.8898 - val_loss: 0.5073 - val_accuracy: 0.8417\n",
      "Epoch 91/100\n",
      "17/17 [==============================] - 2s 106ms/step - loss: 0.3755 - accuracy: 0.8917 - val_loss: 0.5018 - val_accuracy: 0.8500\n",
      "Epoch 92/100\n",
      "17/17 [==============================] - 2s 101ms/step - loss: 0.3713 - accuracy: 0.8917 - val_loss: 0.5000 - val_accuracy: 0.8417\n",
      "Epoch 93/100\n",
      "17/17 [==============================] - 2s 106ms/step - loss: 0.3675 - accuracy: 0.8954 - val_loss: 0.4949 - val_accuracy: 0.8583\n",
      "Epoch 94/100\n",
      "17/17 [==============================] - 2s 106ms/step - loss: 0.3637 - accuracy: 0.8981 - val_loss: 0.4932 - val_accuracy: 0.8500\n",
      "Epoch 95/100\n",
      "17/17 [==============================] - 2s 106ms/step - loss: 0.3598 - accuracy: 0.8963 - val_loss: 0.4885 - val_accuracy: 0.8583\n",
      "Epoch 96/100\n",
      "17/17 [==============================] - 2s 106ms/step - loss: 0.3560 - accuracy: 0.8981 - val_loss: 0.4872 - val_accuracy: 0.8583\n",
      "Epoch 97/100\n",
      "17/17 [==============================] - 2s 106ms/step - loss: 0.3525 - accuracy: 0.9009 - val_loss: 0.4823 - val_accuracy: 0.8583\n",
      "Epoch 98/100\n",
      "17/17 [==============================] - 2s 106ms/step - loss: 0.3483 - accuracy: 0.8991 - val_loss: 0.4806 - val_accuracy: 0.8583\n",
      "Epoch 99/100\n",
      "17/17 [==============================] - 2s 107ms/step - loss: 0.3449 - accuracy: 0.9019 - val_loss: 0.4767 - val_accuracy: 0.8583\n",
      "Epoch 100/100\n",
      "17/17 [==============================] - 2s 106ms/step - loss: 0.3413 - accuracy: 0.9000 - val_loss: 0.4751 - val_accuracy: 0.8583\n"
     ]
    }
   ],
   "source": [
    "train_dataset = tf.data.Dataset.from_tensor_slices((X_train, Y_train)).batch(64)\n",
    "test_dataset = tf.data.Dataset.from_tensor_slices((X_test, Y_test)).batch(64)\n",
    "history = conv_model.fit(train_dataset, epochs=100, validation_data=test_dataset)"
   ]
  },
  {
   "cell_type": "markdown",
   "metadata": {},
   "source": [
    "<a name='5'></a>\n",
    "## 5 - History Object \n",
    "\n",
    "The history object is an output of the `.fit()` operation, and provides a record of all the loss and metric values in memory. It's stored as a dictionary that you can retrieve at `history.history`: "
   ]
  },
  {
   "cell_type": "code",
   "execution_count": 26,
   "metadata": {},
   "outputs": [
    {
     "data": {
      "text/plain": [
       "{'loss': [1.7960700988769531,\n",
       "  1.7814692258834839,\n",
       "  1.7746378183364868,\n",
       "  1.7669734954833984,\n",
       "  1.757596731185913,\n",
       "  1.7453798055648804,\n",
       "  1.7291828393936157,\n",
       "  1.7088124752044678,\n",
       "  1.683173418045044,\n",
       "  1.6528502702713013,\n",
       "  1.6155799627304077,\n",
       "  1.5748329162597656,\n",
       "  1.5287376642227173,\n",
       "  1.4818031787872314,\n",
       "  1.4363124370574951,\n",
       "  1.3948469161987305,\n",
       "  1.3543035984039307,\n",
       "  1.3155463933944702,\n",
       "  1.2790210247039795,\n",
       "  1.2437160015106201,\n",
       "  1.2102614641189575,\n",
       "  1.1787651777267456,\n",
       "  1.149050235748291,\n",
       "  1.1199748516082764,\n",
       "  1.0934430360794067,\n",
       "  1.0653330087661743,\n",
       "  1.0393227338790894,\n",
       "  1.0140434503555298,\n",
       "  0.9900798797607422,\n",
       "  0.9673319458961487,\n",
       "  0.9447600245475769,\n",
       "  0.9227483868598938,\n",
       "  0.9018027782440186,\n",
       "  0.8814435005187988,\n",
       "  0.861783504486084,\n",
       "  0.8437290787696838,\n",
       "  0.8260199427604675,\n",
       "  0.8096373677253723,\n",
       "  0.7935946583747864,\n",
       "  0.7778662443161011,\n",
       "  0.7629567980766296,\n",
       "  0.7485518455505371,\n",
       "  0.7348693013191223,\n",
       "  0.7217981815338135,\n",
       "  0.7091881632804871,\n",
       "  0.6967470049858093,\n",
       "  0.6848152875900269,\n",
       "  0.673355758190155,\n",
       "  0.6621447801589966,\n",
       "  0.6514450907707214,\n",
       "  0.6408887505531311,\n",
       "  0.6308510303497314,\n",
       "  0.6211898922920227,\n",
       "  0.611871600151062,\n",
       "  0.6023196578025818,\n",
       "  0.5931385159492493,\n",
       "  0.5844263434410095,\n",
       "  0.5758228898048401,\n",
       "  0.5675321817398071,\n",
       "  0.5590304136276245,\n",
       "  0.550918698310852,\n",
       "  0.5433329343795776,\n",
       "  0.5355726480484009,\n",
       "  0.5278838872909546,\n",
       "  0.5200804471969604,\n",
       "  0.5131315588951111,\n",
       "  0.5060994625091553,\n",
       "  0.49885478615760803,\n",
       "  0.4922979176044464,\n",
       "  0.4857120215892792,\n",
       "  0.47901904582977295,\n",
       "  0.47246667742729187,\n",
       "  0.46630021929740906,\n",
       "  0.460372656583786,\n",
       "  0.4547315835952759,\n",
       "  0.44912582635879517,\n",
       "  0.44338375329971313,\n",
       "  0.43769195675849915,\n",
       "  0.43202951550483704,\n",
       "  0.426614910364151,\n",
       "  0.4216800928115845,\n",
       "  0.4164922535419464,\n",
       "  0.4117549955844879,\n",
       "  0.4067531228065491,\n",
       "  0.4019932746887207,\n",
       "  0.39710792899131775,\n",
       "  0.3925875425338745,\n",
       "  0.3883473873138428,\n",
       "  0.3840102553367615,\n",
       "  0.37977954745292664,\n",
       "  0.3754998445510864,\n",
       "  0.3712761402130127,\n",
       "  0.3675241470336914,\n",
       "  0.36365705728530884,\n",
       "  0.35981276631355286,\n",
       "  0.3559778034687042,\n",
       "  0.3524681031703949,\n",
       "  0.34834757447242737,\n",
       "  0.3449495732784271,\n",
       "  0.34131789207458496],\n",
       " 'accuracy': [0.15833333134651184,\n",
       "  0.2481481432914734,\n",
       "  0.33703702688217163,\n",
       "  0.31481480598449707,\n",
       "  0.34166666865348816,\n",
       "  0.4018518626689911,\n",
       "  0.4453703761100769,\n",
       "  0.47685185074806213,\n",
       "  0.4851851761341095,\n",
       "  0.4990740716457367,\n",
       "  0.5074074268341064,\n",
       "  0.5138888955116272,\n",
       "  0.5249999761581421,\n",
       "  0.5416666865348816,\n",
       "  0.5555555820465088,\n",
       "  0.5601851940155029,\n",
       "  0.5787037014961243,\n",
       "  0.5907407402992249,\n",
       "  0.6000000238418579,\n",
       "  0.6111111044883728,\n",
       "  0.6194444298744202,\n",
       "  0.6342592835426331,\n",
       "  0.645370364189148,\n",
       "  0.6564815044403076,\n",
       "  0.6583333611488342,\n",
       "  0.6685185432434082,\n",
       "  0.6814814805984497,\n",
       "  0.6944444179534912,\n",
       "  0.7046296000480652,\n",
       "  0.7092592716217041,\n",
       "  0.7166666388511658,\n",
       "  0.7268518805503845,\n",
       "  0.7370370626449585,\n",
       "  0.7444444298744202,\n",
       "  0.7555555701255798,\n",
       "  0.760185182094574,\n",
       "  0.7648147940635681,\n",
       "  0.769444465637207,\n",
       "  0.7712963223457336,\n",
       "  0.7749999761581421,\n",
       "  0.779629647731781,\n",
       "  0.7851851582527161,\n",
       "  0.7879629731178284,\n",
       "  0.7916666865348816,\n",
       "  0.7935185432434082,\n",
       "  0.7953703999519348,\n",
       "  0.8009259104728699,\n",
       "  0.8083333373069763,\n",
       "  0.8120370507240295,\n",
       "  0.8138889074325562,\n",
       "  0.8194444179534912,\n",
       "  0.8222222328186035,\n",
       "  0.8222222328186035,\n",
       "  0.824999988079071,\n",
       "  0.8277778029441833,\n",
       "  0.8268518447875977,\n",
       "  0.8296296000480652,\n",
       "  0.8333333134651184,\n",
       "  0.835185170173645,\n",
       "  0.8379629850387573,\n",
       "  0.8398148417472839,\n",
       "  0.8425925970077515,\n",
       "  0.8435184955596924,\n",
       "  0.8444444537162781,\n",
       "  0.845370352268219,\n",
       "  0.8481481671333313,\n",
       "  0.8509259223937988,\n",
       "  0.854629635810852,\n",
       "  0.8564814925193787,\n",
       "  0.8601852059364319,\n",
       "  0.8611111044883728,\n",
       "  0.8638888597488403,\n",
       "  0.8657407164573669,\n",
       "  0.8694444298744202,\n",
       "  0.8703703880310059,\n",
       "  0.8740741014480591,\n",
       "  0.8759258985519409,\n",
       "  0.8768518567085266,\n",
       "  0.8777777552604675,\n",
       "  0.8796296119689941,\n",
       "  0.8796296119689941,\n",
       "  0.8814814686775208,\n",
       "  0.8833333253860474,\n",
       "  0.885185182094574,\n",
       "  0.885185182094574,\n",
       "  0.885185182094574,\n",
       "  0.8870370388031006,\n",
       "  0.8888888955116272,\n",
       "  0.8907407522201538,\n",
       "  0.8898147940635681,\n",
       "  0.8916666507720947,\n",
       "  0.8916666507720947,\n",
       "  0.895370364189148,\n",
       "  0.8981481194496155,\n",
       "  0.8962963223457336,\n",
       "  0.8981481194496155,\n",
       "  0.9009259343147278,\n",
       "  0.8990740776062012,\n",
       "  0.9018518328666687,\n",
       "  0.8999999761581421],\n",
       " 'val_loss': [1.7859545946121216,\n",
       "  1.780301570892334,\n",
       "  1.7729235887527466,\n",
       "  1.76490318775177,\n",
       "  1.7558704614639282,\n",
       "  1.742679476737976,\n",
       "  1.726651906967163,\n",
       "  1.7075889110565186,\n",
       "  1.6847437620162964,\n",
       "  1.657699704170227,\n",
       "  1.6262468099594116,\n",
       "  1.590344786643982,\n",
       "  1.5534253120422363,\n",
       "  1.5155961513519287,\n",
       "  1.4813286066055298,\n",
       "  1.444239854812622,\n",
       "  1.407256007194519,\n",
       "  1.3704819679260254,\n",
       "  1.3345248699188232,\n",
       "  1.2986477613449097,\n",
       "  1.2644065618515015,\n",
       "  1.2307040691375732,\n",
       "  1.1983776092529297,\n",
       "  1.168432593345642,\n",
       "  1.1383938789367676,\n",
       "  1.1113332509994507,\n",
       "  1.0848244428634644,\n",
       "  1.0602726936340332,\n",
       "  1.0364556312561035,\n",
       "  1.0138027667999268,\n",
       "  0.9924286007881165,\n",
       "  0.9722335934638977,\n",
       "  0.9523003697395325,\n",
       "  0.9342699646949768,\n",
       "  0.9173367619514465,\n",
       "  0.9004473090171814,\n",
       "  0.8851402401924133,\n",
       "  0.8698444366455078,\n",
       "  0.8556033968925476,\n",
       "  0.8420546054840088,\n",
       "  0.8295185565948486,\n",
       "  0.817211389541626,\n",
       "  0.8050063252449036,\n",
       "  0.7929608821868896,\n",
       "  0.7812407612800598,\n",
       "  0.7701768279075623,\n",
       "  0.7596920132637024,\n",
       "  0.7496365904808044,\n",
       "  0.7397106289863586,\n",
       "  0.7306626439094543,\n",
       "  0.7208172082901001,\n",
       "  0.7119560241699219,\n",
       "  0.7033535838127136,\n",
       "  0.6953467130661011,\n",
       "  0.6867066025733948,\n",
       "  0.6792243123054504,\n",
       "  0.6714243292808533,\n",
       "  0.6642090082168579,\n",
       "  0.6569207906723022,\n",
       "  0.649686872959137,\n",
       "  0.642677366733551,\n",
       "  0.6363919973373413,\n",
       "  0.6300857663154602,\n",
       "  0.6232866644859314,\n",
       "  0.6179478764533997,\n",
       "  0.6120613217353821,\n",
       "  0.6063798069953918,\n",
       "  0.6009212732315063,\n",
       "  0.5955931544303894,\n",
       "  0.5897327661514282,\n",
       "  0.5843737125396729,\n",
       "  0.5791895389556885,\n",
       "  0.5739840269088745,\n",
       "  0.5702593326568604,\n",
       "  0.5651999115943909,\n",
       "  0.5613943934440613,\n",
       "  0.5568029880523682,\n",
       "  0.5535828471183777,\n",
       "  0.548165500164032,\n",
       "  0.5453540086746216,\n",
       "  0.5398856401443481,\n",
       "  0.5369767546653748,\n",
       "  0.5316933393478394,\n",
       "  0.5285915732383728,\n",
       "  0.524938702583313,\n",
       "  0.5213602185249329,\n",
       "  0.517459511756897,\n",
       "  0.5139518976211548,\n",
       "  0.50950688123703,\n",
       "  0.5073226094245911,\n",
       "  0.5018049478530884,\n",
       "  0.4999500811100006,\n",
       "  0.49493828415870667,\n",
       "  0.493238240480423,\n",
       "  0.4885421395301819,\n",
       "  0.4871593713760376,\n",
       "  0.48231586813926697,\n",
       "  0.4805925488471985,\n",
       "  0.4766618609428406,\n",
       "  0.4751244783401489],\n",
       " 'val_accuracy': [0.1666666716337204,\n",
       "  0.2750000059604645,\n",
       "  0.3083333373069763,\n",
       "  0.3333333432674408,\n",
       "  0.38333332538604736,\n",
       "  0.3583333194255829,\n",
       "  0.375,\n",
       "  0.40833333134651184,\n",
       "  0.4583333432674408,\n",
       "  0.4749999940395355,\n",
       "  0.4833333194255829,\n",
       "  0.4833333194255829,\n",
       "  0.4749999940395355,\n",
       "  0.4833333194255829,\n",
       "  0.5,\n",
       "  0.5249999761581421,\n",
       "  0.5166666507720947,\n",
       "  0.5249999761581421,\n",
       "  0.5333333611488342,\n",
       "  0.5249999761581421,\n",
       "  0.5333333611488342,\n",
       "  0.550000011920929,\n",
       "  0.5666666626930237,\n",
       "  0.5833333134651184,\n",
       "  0.6000000238418579,\n",
       "  0.6000000238418579,\n",
       "  0.6083333492279053,\n",
       "  0.6083333492279053,\n",
       "  0.6333333253860474,\n",
       "  0.6416666507720947,\n",
       "  0.6499999761581421,\n",
       "  0.6583333611488342,\n",
       "  0.6916666626930237,\n",
       "  0.6833333373069763,\n",
       "  0.675000011920929,\n",
       "  0.6833333373069763,\n",
       "  0.6833333373069763,\n",
       "  0.6916666626930237,\n",
       "  0.699999988079071,\n",
       "  0.7083333134651184,\n",
       "  0.7083333134651184,\n",
       "  0.7083333134651184,\n",
       "  0.7166666388511658,\n",
       "  0.7250000238418579,\n",
       "  0.7250000238418579,\n",
       "  0.7333333492279053,\n",
       "  0.7333333492279053,\n",
       "  0.7333333492279053,\n",
       "  0.7416666746139526,\n",
       "  0.7416666746139526,\n",
       "  0.7416666746139526,\n",
       "  0.7416666746139526,\n",
       "  0.7416666746139526,\n",
       "  0.7416666746139526,\n",
       "  0.7583333253860474,\n",
       "  0.75,\n",
       "  0.7583333253860474,\n",
       "  0.7666666507720947,\n",
       "  0.7833333611488342,\n",
       "  0.7833333611488342,\n",
       "  0.7833333611488342,\n",
       "  0.7833333611488342,\n",
       "  0.7749999761581421,\n",
       "  0.7833333611488342,\n",
       "  0.7833333611488342,\n",
       "  0.7833333611488342,\n",
       "  0.7916666865348816,\n",
       "  0.7916666865348816,\n",
       "  0.7916666865348816,\n",
       "  0.800000011920929,\n",
       "  0.8166666626930237,\n",
       "  0.800000011920929,\n",
       "  0.824999988079071,\n",
       "  0.8166666626930237,\n",
       "  0.8333333134651184,\n",
       "  0.8333333134651184,\n",
       "  0.8333333134651184,\n",
       "  0.8333333134651184,\n",
       "  0.8416666388511658,\n",
       "  0.8416666388511658,\n",
       "  0.8416666388511658,\n",
       "  0.8416666388511658,\n",
       "  0.8416666388511658,\n",
       "  0.8416666388511658,\n",
       "  0.8500000238418579,\n",
       "  0.8416666388511658,\n",
       "  0.8500000238418579,\n",
       "  0.8500000238418579,\n",
       "  0.8583333492279053,\n",
       "  0.8416666388511658,\n",
       "  0.8500000238418579,\n",
       "  0.8416666388511658,\n",
       "  0.8583333492279053,\n",
       "  0.8500000238418579,\n",
       "  0.8583333492279053,\n",
       "  0.8583333492279053,\n",
       "  0.8583333492279053,\n",
       "  0.8583333492279053,\n",
       "  0.8583333492279053,\n",
       "  0.8583333492279053]}"
      ]
     },
     "execution_count": 26,
     "metadata": {},
     "output_type": "execute_result"
    }
   ],
   "source": [
    "history.history"
   ]
  },
  {
   "cell_type": "markdown",
   "metadata": {},
   "source": [
    "Now visualize the loss over time using `history.history`: "
   ]
  },
  {
   "cell_type": "code",
   "execution_count": 27,
   "metadata": {},
   "outputs": [
    {
     "data": {
      "text/plain": [
       "[Text(0, 0.5, 'Accuracy'), Text(0.5, 0, 'Epoch')]"
      ]
     },
     "execution_count": 27,
     "metadata": {},
     "output_type": "execute_result"
    },
    {
     "data": {
      "image/png": "[encoded data removed]",
      "text/plain": [
       "<Figure size 864x576 with 1 Axes>"
      ]
     },
     "metadata": {
      "needs_background": "light"
     },
     "output_type": "display_data"
    },
    {
     "data": {
      "image/png": "[encoded data removed]",
      "text/plain": [
       "<Figure size 864x576 with 1 Axes>"
      ]
     },
     "metadata": {
      "needs_background": "light"
     },
     "output_type": "display_data"
    }
   ],
   "source": [
    "# The history.history[\"loss\"] entry is a dictionary with as many values as epochs that the\n",
    "# model was trained on. \n",
    "df_loss_acc = pd.DataFrame(history.history)\n",
    "df_loss= df_loss_acc[['loss','val_loss']]\n",
    "df_loss.rename(columns={'loss':'train','val_loss':'validation'},inplace=True)\n",
    "df_acc= df_loss_acc[['accuracy','val_accuracy']]\n",
    "df_acc.rename(columns={'accuracy':'train','val_accuracy':'validation'},inplace=True)\n",
    "df_loss.plot(title='Model loss',figsize=(12,8)).set(xlabel='Epoch',ylabel='Loss')\n",
    "df_acc.plot(title='Model Accuracy',figsize=(12,8)).set(xlabel='Epoch',ylabel='Accuracy')"
   ]
  },
  {
   "cell_type": "markdown",
   "metadata": {},
   "source": [
    "**Congratulations**! You've finished the assignment and built two models: One that recognizes  smiles, and another that recognizes SIGN language with almost 80% accuracy on the test set. In addition to that, you now also understand the applications of two Keras APIs: Sequential and Functional. Nicely done! \n",
    "\n",
    "By now, you know a bit about how the Functional API works and may have glimpsed the possibilities. In your next assignment, you'll really get a feel for its power when you get the opportunity to build a very deep ConvNet, using ResNets! "
   ]
  },
  {
   "cell_type": "markdown",
   "metadata": {},
   "source": [
    "<a name='6'></a>\n",
    "## 6 - Bibliography\n",
    "\n",
    "You're always encouraged to read the official documentation. To that end, you can find the docs for the Sequential and Functional APIs here: \n",
    "\n",
    "https://www.tensorflow.org/guide/keras/sequential_model\n",
    "\n",
    "https://www.tensorflow.org/guide/keras/functional"
   ]
  }
 ],
 "metadata": {
  "coursera": {
   "course_slug": "convolutional-neural-networks",
   "graded_item_id": "bwbJV",
   "launcher_item_id": "0TkXB"
  },
  "kernelspec": {
   "display_name": "Python 3",
   "language": "python",
   "name": "python3"
  },
  "language_info": {
   "codemirror_mode": {
    "name": "ipython",
    "version": 3
   },
   "file_extension": ".py",
   "mimetype": "text/x-python",
   "name": "python",
   "nbconvert_exporter": "python",
   "pygments_lexer": "ipython3",
   "version": "3.7.6"
  }
 },
 "nbformat": 4,
 "nbformat_minor": 2
}
